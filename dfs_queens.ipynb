{
  "cells": [
    {
      "cell_type": "markdown",
      "metadata": {},
      "source": [
        "As we did in class, we will represent the board as a one-dimensional array where each position in the arrray is the nth queen's column value. So if the array is: [1, 3, 0, 2], then the first queen is in position 1 (from 0--3), the second queen is in position 3 (the last column), the third queen is in the first column and the last queen is the in the second position."
      ]
    },
    {
      "cell_type": "code",
      "execution_count": null,
      "metadata": {
        "id": "uzr9G6qxiFz7"
      },
      "outputs": [],
      "source": [
        "columns = [] #columns is the locations for each of the queens\n",
        "# columns[r] is a number c if a queen is placed at row r and column c.\n",
        "size = 4\n",
        "import random #hint -- you will need this for the following code: column=random.randrange(0,size)"
      ]
    },
    {
      "cell_type": "markdown",
      "metadata": {
        "id": "3yiyZY21jX2A"
      },
      "source": [
        "Let's setup one iteration of the British Museum algorithm-- we'll put down 4 queens randomly."
      ]
    },
    {
      "cell_type": "code",
      "execution_count": null,
      "metadata": {
        "id": "wgHKLs7Rjc4t"
      },
      "outputs": [],
      "source": [
        "def place_n_queens(size):\n",
        "    columns.clear()\n",
        "    row = 0\n",
        "    while row < size:\n",
        "        column=random.randrange(0,size)\n",
        "        columns.append(column)\n",
        "        row+=1\n",
        "    return columns\n",
        "    "
      ]
    },
    {
      "cell_type": "code",
      "execution_count": null,
      "metadata": {
        "id": "97X0rqn1HwcR"
      },
      "outputs": [],
      "source": [
        "place_n_queens(size)"
      ]
    },
    {
      "cell_type": "markdown",
      "metadata": {
        "id": "DMl5KM1mjg9Z"
      },
      "source": [
        "Now, we can print the result with a simple loop:"
      ]
    },
    {
      "cell_type": "code",
      "execution_count": null,
      "metadata": {
        "id": "ule48gb4jlDq"
      },
      "outputs": [],
      "source": [
        "def display():\n",
        "    for row in range(len(columns)):\n",
        "        for column in range(len(columns)):\n",
        "            if column == columns[row]:\n",
        "                print('♛', end=' ')\n",
        "            else:\n",
        "                print(' .', end=' ')\n",
        "        print()"
      ]
    },
    {
      "cell_type": "code",
      "execution_count": null,
      "metadata": {
        "colab": {
          "base_uri": "https://localhost:8080/"
        },
        "id": "wlM5w9eCjwaB",
        "outputId": "dd2a91d3-7127-4e8a-c739-5493c808c2ea"
      },
      "outputs": [],
      "source": [
        "place_n_queens(size)\n",
        "# display()\n",
        "# print(columns)"
      ]
    },
    {
      "cell_type": "code",
      "execution_count": null,
      "metadata": {
        "id": "2CvQuja7kyii"
      },
      "outputs": [],
      "source": [
        "def place_in_next_row(column):\n",
        "    columns.append(column)\n",
        " \n",
        "def remove_in_current_row():\n",
        "    if len(columns) > 0:\n",
        "        return columns.pop()\n",
        "    return -1\n",
        " \n",
        "def next_row_is_safe(column):\n",
        "    row = len(columns) \n",
        "    # check column\n",
        "    for queen_column in columns:\n",
        "        if column == queen_column:\n",
        "            return False\n",
        " \n",
        "    # check diagonal\n",
        "    for queen_row, queen_column in enumerate(columns):\n",
        "        if queen_column - queen_row == column - row:\n",
        "            return False\n",
        " \n",
        "    # check other diagonal\n",
        "    for queen_row, queen_column in enumerate(columns):\n",
        "        if ((size - queen_column) - queen_row\n",
        "            == (size - column) - row):\n",
        "            return False\n",
        "    return True\n",
        " "
      ]
    },
    {
      "cell_type": "markdown",
      "metadata": {
        "id": "IkJ6-mkSkGoo"
      },
      "source": [
        "This of course is not necessary legal, so we'll write a simple DFS search with backtracking:"
      ]
    },
    {
      "cell_type": "code",
      "execution_count": null,
      "metadata": {
        "id": "8KfrC2oCj-eN"
      },
      "outputs": [],
      "source": [
        "def solve_queen(size):\n",
        "    columns.clear()\n",
        "    number_of_moves = 0 #where do I change this so it counts the number of Queen moves?\n",
        "    number_of_iterations = 0  \n",
        "    row = 0\n",
        "    column = 0\n",
        "    # iterate over rows of board\n",
        "    while True:\n",
        "        #place queen in next row\n",
        "        #print(columns)\n",
        "        #print(\"I have \", row, \" number of queens put down\")\n",
        "        #display()\n",
        "        # print(number_of_moves)\n",
        "        while column < size:\n",
        "            number_of_iterations+=1\n",
        "            if next_row_is_safe(column):\n",
        "                place_in_next_row(column)\n",
        "                row += 1\n",
        "                column = 0\n",
        "                break\n",
        "            else:\n",
        "                column += 1\n",
        "        # if I could not find an open column or if board is full\n",
        "        if (column == size or row == size):\n",
        "            number_of_iterations+=1\n",
        "            number_of_moves += 1\n",
        "            # if board is full, we have a solution\n",
        "            if row == size:\n",
        "                # print(\"I did it! Here is my solution\")\n",
        "                # display()\n",
        "                #print(number_of_moves)\n",
        "                return number_of_iterations, number_of_moves\n",
        "            # I couldn't find a solution so I now backtrack\n",
        "            prev_column = remove_in_current_row()\n",
        "            if (prev_column == -1): #I backtracked past column 1\n",
        "                print(\"There are no solutions\")\n",
        "                #print(number_of_moves)\n",
        "                return number_of_iterations, number_of_moves\n",
        "            # try previous row again\n",
        "            row -= 1\n",
        "            # start checking at column = (1 + value of column in previous row)\n",
        "            column = 1 + prev_column \n"
      ]
    },
    {
      "cell_type": "markdown",
      "metadata": {
        "id": "qPHBFqPikkEL"
      },
      "source": [
        "This code is nice, but it uses three functions:\n",
        "\n",
        "1. place_in_next_row\n",
        "\n",
        "2. remove_in_current_row\n",
        "\n",
        "3. next_row_is_safe\n",
        "\n",
        "That we now have to define\n",
        "\n"
      ]
    },
    {
      "cell_type": "code",
      "execution_count": null,
      "metadata": {
        "colab": {
          "base_uri": "https://localhost:8080/"
        },
        "id": "D7SgEJ6RVm1T",
        "outputId": "a4ce5832-a658-4766-f025-8bdabdec908d"
      },
      "outputs": [],
      "source": [
        "#size = int(input('Enter n: '))\n",
        "# num_iterations=0\n",
        "# number_moves = 0\n",
        "# #for i in range(0, 100):\n",
        "# #    columns = [] #columns is the locations for each of the queens\n",
        "# num_iterations, number_moves=solve_queen(size)\n",
        "# print(num_iterations)\n",
        "# print(number_moves)\n",
        "# print(columns)"
      ]
    },
    {
      "cell_type": "code",
      "execution_count": null,
      "metadata": {},
      "outputs": [],
      "source": [
        "def isValid(cols): #method to check whether a given list of columns constitutes a valid solution to n-queens -- that is no queen attacks another \n",
        "    #duplicates in col list so more than one queen per column -- must be invalid \n",
        "    if len(cols) != len(set(cols)):\n",
        "        return False\n",
        "    s = len(cols) #size\n",
        "    #sets to track which rows/columns/diagonals are in any queen's attack range\n",
        "    threatenedCols = set()\n",
        "    threatenedFwdDiags = set() #0 for longest forward diagonal (a1-h8), 1..2..3 for each diagonal above, -1..-2.. for each below\n",
        "    threatenedBwdDiags = set() #ditto for backward diagonals (a8-h1)\n",
        "    row = 0\n",
        "    for column in cols: #check if this queen is in the path of another (in a threatened row/col/diagonal)\n",
        "        if column in threatenedCols:\n",
        "            return False\n",
        "        threatenedCols.add(column)\n",
        "        if column-row in threatenedBwdDiags:\n",
        "            return False\n",
        "        threatenedBwdDiags.add(column-row)\n",
        "        if s-1-column-row in threatenedFwdDiags:\n",
        "            return False\n",
        "        threatenedFwdDiags.add(s-1-column-row)\n",
        "        row += 1\n",
        "    return True"
      ]
    },
    {
      "cell_type": "code",
      "execution_count": null,
      "metadata": {},
      "outputs": [],
      "source": [
        "def britishMuseum(n): #british museum alg for n-queens \n",
        "    iter, moves = 0, 0\n",
        "    place_n_queens(n) #place queens randomly until a valid solution is found\n",
        "    while not isValid(columns):\n",
        "        place_n_queens(n)\n",
        "        iter += n\n",
        "        moves += 1 #inc number of iterations\n",
        "    display()\n",
        "    return iter, moves\n",
        "\n",
        "# print(britishMuseum(8))"
      ]
    },
    {
      "cell_type": "code",
      "execution_count": null,
      "metadata": {},
      "outputs": [],
      "source": [
        "def findWorstQueen(cols, findBest=False): #returns the row of the queen with the most conflicts \n",
        "    #list to track conflicts - element in index i is the number of queens that the queen in row i attacks\n",
        "    attacks = []\n",
        "    for i in range(len(cols)): #initialise the list \n",
        "        attacks.append(0)\n",
        "\n",
        "    for r, c in enumerate(cols):\n",
        "        #to find queens, check this queens column, (row) and both diagonals\n",
        "        attacks[r] += cols.count(c)-1 #add number of queens in the same column (-1 for this queen)\n",
        "        #add number of queens in the same  diagonal\n",
        "        for j, k in enumerate(cols):\n",
        "            if (len(cols)-1-k-j) == (len(cols)-1-c-r): #same fwd diagonal \n",
        "                attacks[r] += 1\n",
        "            if k-j == c-r: #same bwd diagonal \n",
        "                attacks[r] += 1    \n",
        "    print(attacks)  \n",
        "    # if findBest:\n",
        "        # for i in sorted(attacks):\n",
        "            # if not attacks.index(i) in cols:\n",
        "                # return attacks.index(i)\n",
        "            # else:\n",
        "                # return random.randrange(0, len(cols))\n",
        "        # return attacks.index(min(attacks))\n",
        "    # else:       /\n",
        "        # try:      \n",
        "        # if len(attacks) == 0:\n",
        "            # return random.randrange(0, len(cols))\n",
        "    return attacks.index(max(attacks))\n",
        "        # except ValueError:\n",
        "            # return random.randrange(0, len(columns))"
      ]
    },
    {
      "cell_type": "code",
      "execution_count": null,
      "metadata": {},
      "outputs": [],
      "source": [
        "def moveQueen(cols, q): #move the queen at row q to some other random column in row q\n",
        "    old = cols[q]\n",
        "    new = old\n",
        "    while old == new:\n",
        "        # new = findWorstQueen(cols, True)\n",
        "        new = random.randrange(0, len(cols))\n",
        "        cols[q] = new\n",
        "    return cols\n",
        "\n",
        "# print(findWorstQueen([1,3,2,2]))\n",
        "\n",
        "# cs = moveQueen([1,3,2,2], findWorstQueen([1,3,2,2]))\n",
        "# while not isValid(cs):\n",
        "#     cs = moveQueen(cs, findWorstQueen(cs))\n",
        "# print(cs)"
      ]
    },
    {
      "cell_type": "code",
      "execution_count": null,
      "metadata": {},
      "outputs": [],
      "source": [
        "#hillclimbing\n",
        "def hillclimbing(n):\n",
        "    columns = []\n",
        "    # columns = [0] * n\n",
        "    iter, moves = 0, 0\n",
        "    columns = place_n_queens(n)\n",
        "    while (not isValid(columns)):\n",
        "        #while not a valid solution, find the queen that attacks the most others and place it to where it attacks the fewest others \n",
        "        queen = findWorstQueen(columns)\n",
        "        columns = moveQueen(columns, queen)\n",
        "        iter += 1\n",
        "        moves += 1\n",
        "    display()\n",
        "    return iter, moves\n",
        "    \n",
        "hillclimbing(8)"
      ]
    },
    {
      "cell_type": "code",
      "execution_count": null,
      "metadata": {},
      "outputs": [],
      "source": [
        "#forward checking\n",
        "#put down a queen and then keep track of squares that are allowed \n",
        "def forwardCheck(size):\n",
        "    moves = 0\n",
        "    prohibitedCols = set()\n",
        "    prohibitedDiagsFWD = set()\n",
        "    prohibitedDiagsBWD = set()\n",
        "    r, c = 0, random.randrange(0, size) #place the first queen, first iteration \n",
        "    iter = 1\n",
        "    columns.append(c)\n",
        "    # prohibitedCols.add(c)\n",
        "    # prohibitedDiagsFWD.add(size-1-r-c)\n",
        "    # prohibitedDiagsBWD.add(r-c)\n",
        "    while len(columns) < size:\n",
        "        r += 1\n",
        "        #try to place a queen in a random column\n",
        "        c = random.randrange(0, size) \n",
        "        #queen placed so incr iterations\n",
        "        iter += 1\n",
        "        index = 0 #index to track if we get stuck, if we do, backtrack and try replacing the previous queen\n",
        "        while not next_row_is_safe(c):\n",
        "            c = random.randrange(0, size)   \n",
        "            moves += 1\n",
        "            index += 1\n",
        "            if (index >= size):\n",
        "                columns.pop()\n",
        "                index = 0\n",
        "        columns.append(c) #queen is in a valid position, so place it on the board\n",
        "    display()\n",
        "    # print(columns)\n",
        "    return iter, moves\n",
        "    \n",
        "columns.clear()\n",
        "forwardCheck(8)\n",
        "# print(forwardCheck(8))"
      ]
    },
    {
      "cell_type": "markdown",
      "metadata": {
        "id": "ku6jHFBZQND-"
      },
      "source": [
        "Now what?  Can you implement the British Museum Algorithm?  How many moves and iterations did it take to solve the 4 queens problem?  \n",
        "\n",
        "How many moves/iterations did it take to solve the 8 queens (if at all)?"
      ]
    },
    {
      "cell_type": "code",
      "execution_count": null,
      "metadata": {},
      "outputs": [],
      "source": [
        "#test each algorithm\n",
        "\n",
        "gbrMinIter, gbrMaxIter, gbrTotalIter = 0, 0, 0\n",
        "gbrMinMove, gbrMaxMove, gbrTotalMove = 0, 0, 0\n",
        "hillMinIter, hillMaxIter, hillTotalIter = 0, 0, 0\n",
        "hillMinMove, hillMaxMove, hillTotalMove = 0, 0, 0\n",
        "dfsMinIter, dfsMaxIter, dfsTotalIter = 0, 0, 0\n",
        "dfsMinMove, dfsMaxMove, dfsTotalMove = 0, 0, 0\n",
        "fwdMinIter, fwdMaxIter, fwdTotalIter = 0, 0, 0\n",
        "fwdMinMove, fwdMaxMove, fwdTotalMove = 0, 0, 0\n",
        "for i in range(100): #run each one 100 times, and save min, max and avg for each\n",
        "\n",
        "    # for s in [4, 8]:\n",
        "    s = 8 \n",
        "    print(\"=\" * 25)\n",
        "    print(\"size: \" + str(s))\n",
        "    print(\"Algorithm: British Museum\\n\")\n",
        "    print(\"Solution: \")\n",
        "    number_iterations, number_moves = britishMuseum(s)\n",
        "    gbrMinIter = min(gbrMinIter, number_iterations) if min(gbrMinIter, number_iterations) > 0 else gbrMinIter\n",
        "    gbrMaxIter = max(gbrMaxIter, number_iterations)\n",
        "    gbrTotalIter += number_iterations\n",
        "\n",
        "    gbrMinMove = min(gbrMinMove, number_moves) if min(gbrMinMove, number_moves) > 0 else gbrMinMove\n",
        "    gbrMaxMove = max(gbrMaxMove, number_moves)\n",
        "    gbrTotalMove += number_moves\n",
        "\n",
        "    print(\"Iterations: \" + str(number_iterations), end=\" \")\n",
        "    print(\"Moves: \" + str(number_moves))\n",
        "\n",
        "    print(\"\\nAlgorithm: Hillclimbing\\n\")\n",
        "    print(\"Solution: \")\n",
        "    number_iterations, number_moves = hillclimbing(s)\n",
        "    hillMinIter = min(hillMinIter, number_iterations) if min(hillMinIter, number_iterations) > 0 else hillMinIter\n",
        "    hillMaxIter = max(hillMaxIter, number_iterations)\n",
        "    hillTotalIter += number_iterations\n",
        "\n",
        "    hillMinMove = min(hillMinMove, number_moves) if min(hillMinMove, number_moves) > 0 else hillMinMove\n",
        "    hillMaxMove = max(hillMaxMove, number_moves)\n",
        "    hillTotalMove += number_moves\n",
        "\n",
        "    print(\"Iterations: \" + str(number_iterations), end=\" \")\n",
        "    print(\"Moves: \" + str(number_moves))\n",
        "    \n",
        "    print(\"\\nAlgorithm: Forward checking\\n\")\n",
        "    print(\"Solution: \")\n",
        "    number_iterations, number_moves = forwardCheck(s)\n",
        "\n",
        "    fwdMinIter = min(fwdMinIter, number_iterations) if min(fwdMinIter, number_iterations) > 0 else fwdMinIter \n",
        "    fwdMaxIter = max(fwdMaxIter, number_iterations)\n",
        "    fwdTotalIter += number_iterations\n",
        "\n",
        "    fwdMinMove = min(fwdMinMove, number_moves) if min(fwdMinMove, number_moves) > 0 else fwdMinMove\n",
        "    fwdMaxMove = max(fwdMaxMove, number_moves)\n",
        "    fwdTotalMove += number_moves\n",
        "\n",
        "    print(\"Iterations: \" + str(number_iterations), end=\" \")\n",
        "    print(\"Moves: \" + str(number_moves))\n",
        "    \n",
        "    print(\"\\nAlgorithm: Backtracking DFS\\n\")\n",
        "    print(\"Solution: \") \n",
        "    number_iterations, number_moves = solve_queen(s)\n",
        "    dfsMinIter = min(dfsMinIter, number_iterations) if min(dfsMinIter, number_iterations) > 0 else dfsMaxIter\n",
        "    dfsMaxIter = max(dfsMaxIter, number_iterations)\n",
        "    dfsTotalIter += number_iterations\n",
        "\n",
        "    dfsMinMove = min(dfsMinMove, number_moves) if min(dfsMinMove, number_moves) > 0 else dfsMinMove\n",
        "    dfsMaxMove = max(dfsMaxMove, number_moves)\n",
        "    dfsTotalMove += number_moves\n",
        "    print(\"Iterations: \" + str(number_iterations), end=\" \")\n",
        "    print(\"Moves: \" + str(number_moves))\n",
        "        \n",
        "print(\"british museum\")\n",
        "print(\"min\\tmax\\tavg iterations\")\n",
        "print(\"%i\\t%i\\t%i\" % (gbrMinIter, gbrMaxIter, gbrTotalIter/100))\n",
        "print(\"min\\tmax\\tavg moves\")\n",
        "print(\"%i\\t%i\\t%i\" % (gbrMinMove, gbrMaxMove, gbrTotalMove/100))\n",
        "print(\"hill climbing\")\n",
        "print(\"min\\tmax\\tavg iterations\")\n",
        "print(\"%i\\t%i\\t%i\" % (hillMinIter, hillMaxIter, hillTotalIter/100))\n",
        "print(\"min\\tmax\\tavg moves\")\n",
        "print(\"%i\\t%i\\t%i\" % (hillMinMove, hillMaxMove, hillTotalMove/100))\n",
        "print(\"dfs\")\n",
        "print(\"min\\tmax\\tavg iterations\")\n",
        "print(\"%i\\t%i\\t%i\" % (dfsMinIter, dfsMaxIter, dfsTotalIter/100))\n",
        "print(\"min\\tmax\\tavg moves\")\n",
        "print(\"%i\\t%i\\t%i\" % (dfsMinMove, dfsMaxMove, dfsTotalMove/100))\n",
        "print(\"forward checking\")\n",
        "print(\"min\\tmax\\tavg iterations\")\n",
        "print(\"%i\\t%i\\t%i\" % (fwdMinIter, fwdMaxIter, fwdTotalIter/100))\n",
        "print(\"min\\tmax\\tavg moves\")\n",
        "print(\"%i\\t%i\\t%i\" % (fwdMinMove, fwdMaxMove, fwdTotalMove/100))"
      ]
    }
  ],
  "metadata": {
    "colab": {
      "collapsed_sections": [],
      "provenance": []
    },
    "kernelspec": {
      "display_name": "Python 3.10.0 64-bit",
      "language": "python",
      "name": "python3"
    },
    "language_info": {
      "codemirror_mode": {
        "name": "ipython",
        "version": 3
      },
      "file_extension": ".py",
      "mimetype": "text/x-python",
      "name": "python",
      "nbconvert_exporter": "python",
      "pygments_lexer": "ipython3",
      "version": "3.10.0"
    },
    "vscode": {
      "interpreter": {
        "hash": "81a874e645ab54eb2528ac3c3203a01c9b169ca4c7e2b4ec5083c0860b9870d3"
      }
    }
  },
  "nbformat": 4,
  "nbformat_minor": 0
}
